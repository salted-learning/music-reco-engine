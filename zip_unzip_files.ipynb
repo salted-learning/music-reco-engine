{
 "cells": [
  {
   "cell_type": "code",
   "execution_count": 2,
   "metadata": {
    "collapsed": true
   },
   "outputs": [],
   "source": [
    "import zipfile \n",
    "import os"
   ]
  },
  {
   "cell_type": "code",
   "execution_count": 15,
   "metadata": {},
   "outputs": [
    {
     "name": "stdout",
     "output_type": "stream",
     "text": [
      "files unzipped\n"
     ]
    }
   ],
   "source": [
    "#unzip files\n",
    "with zipfile.ZipFile(zip_file_path, 'r') as zipped:\n",
    "    # extracting all the files\n",
    "    zipped.extractall()\n",
    "print('files unzipped')"
   ]
  },
  {
   "cell_type": "code",
   "execution_count": null,
   "metadata": {
    "collapsed": true
   },
   "outputs": [],
   "source": [
    "#zip files\n",
    "file_dir = 'lastfm-dataset-360K'\n",
    "zip_file_path = 'lastfm-dataset-360K-zipped.zip'\n",
    "files = [i for i in os.listdir(file_dir) if 'tsv' in i]\n",
    "\n",
    "with zipfile.ZipFile(zip_file_path, 'w', zipfile.ZIP_DEFLATED) as zipped:\n",
    "    for i in files:\n",
    "        file_path = os.path.join(file_dir, i)\n",
    "        zipped.write(file_path)\n",
    "print('files zipped')"
   ]
  }
 ],
 "metadata": {
  "kernelspec": {
   "display_name": "Python 3",
   "language": "python",
   "name": "python3"
  },
  "language_info": {
   "codemirror_mode": {
    "name": "ipython",
    "version": 3
   },
   "file_extension": ".py",
   "mimetype": "text/x-python",
   "name": "python",
   "nbconvert_exporter": "python",
   "pygments_lexer": "ipython3",
   "version": "3.6.2"
  }
 },
 "nbformat": 4,
 "nbformat_minor": 2
}
